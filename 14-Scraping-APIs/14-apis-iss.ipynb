{
 "cells": [
  {
   "cell_type": "markdown",
   "metadata": {},
   "source": [
    "# Introduction to Data Science – Lecture 14 – APIs\n",
    "*COMP 5360 / MATH 4100, University of Utah, http://datasciencecourse.net/*\n",
    "\n",
    "In this lecture we will explore how we can extract data from web-APIs. The first part of this tutorial is based on [this blog](https://www.dataquest.io/blog/python-api-tutorial/).\n",
    "\n",
    "API stands for Application Programming Interface. It is supposed to be a **well defined interface** for consuming data (in contrast to web-scraping), or, more generally, for the **interaction with a remote program** on a server. APIs aren't only generated so that you can read data; they're often designed so that you could write custom software to interact with the API. You could, for example, write your own twitter client! \n",
    "\n",
    "APIs are usually well documented, as the organization that provides APIs wants you to use them. \n",
    "\n",
    "Here are a couple of examples of sites that have documented APIs:\n",
    "\n",
    " * [StackExchange](https://api.stackexchange.com/docs)  \n",
    " * [Twitter](https://dev.twitter.com/rest/public)\n",
    " * [Facebook](https://developers.facebook.com/docs/graph-api)\n",
    " * [KEGG](http://www.genome.jp/kegg/rest/keggapi.html) \n",
    " * [Google Maps](https://developers.google.com/maps/) \n",
    " * and many many more. \n",
    " \n",
    "Most APIs require some form of authentication and have rules on what you're allowed to do and what not. Follow those rules, or you will be blocked faster than you can say `GET`. \n",
    " \n",
    "Working with an API is a lot like working with a website, but instead of a human in front of the screen, it's computers talking to each other. \n",
    "\n",
    "We'll be using the dominant form of APIs on the web: REST (REpresentational State Transfer). REST APIs use an [URI](https://en.wikipedia.org/wiki/Uniform_Resource_Identifier) (a Uniform Resource Identifier; URLs are one specific form of URIs) to specify what you want to do with and API.\n",
    "\n",
    "All API methods in REST are relative to a base URL. E.g., for twitter this would be\n",
    "```\n",
    "https://api.twitter.com/1.1/\n",
    "```\n",
    "\n",
    "A query would look like this: \n",
    "\n",
    "```\n",
    "https://api.twitter.com/1.1/search/tweets.json?q=%40twitterapi\n",
    "```\n",
    "\n",
    "\n",
    "REST APIs can return data in different forms. The most common ones are JSON and XML, and of those two, JSON is now dominant. \n",
    "\n",
    "JSON stands for JavaScript Object Notation, and is a pretty convenient format, as we'll see. \n",
    " \n",
    "\n",
    "Let's start with a very simple example, retrieving the current position of the ISS. We will be using the [requests library](http://www.python-requests.org/en/latest/), which will handle our communication with the server."
   ]
  },
  {
   "cell_type": "code",
   "execution_count": 1,
   "metadata": {},
   "outputs": [
    {
     "data": {
      "text/plain": [
       "<Response [200]>"
      ]
     },
     "execution_count": 1,
     "metadata": {},
     "output_type": "execute_result"
    }
   ],
   "source": [
    "import requests \n",
    "# Make a get request to get the latest position of the international space station from the opennotify api.\n",
    "response = requests.get(\"http://api.open-notify.org/iss-now.json\")\n",
    "\n",
    "response"
   ]
  },
  {
   "cell_type": "markdown",
   "metadata": {},
   "source": [
    "That looks good, we've received a response with the message \"200\". What does the 200 mean? It's a status code - you've probably seen the \"Error 404\" on the internet. \n",
    "\n",
    "Here are a couple of codes:\n",
    "\n",
    " * **200** – everything went okay, and the result has been returned (if any)\n",
    " * **301** – the server is redirecting you to a different endpoint. This can happen when a company switches domain names, or an endpoint name is changed.\n",
    " * **401** – the server thinks you’re not authenticated. This happens when you don’t send the right credentials to access an API (we’ll talk about authentication later).\n",
    " * **400** – the server thinks you made a bad request. This can happen when you don’t send along the right data, among other things.\n",
    " * **403** – the resource you’re trying to access is forbidden – you don’t have the right permissions to see it.\n",
    " * **404** – the resource you tried to access wasn’t found on the server.\n",
    "\n",
    "Let's try to get a response with a wrong URL:"
   ]
  },
  {
   "cell_type": "code",
   "execution_count": 2,
   "metadata": {},
   "outputs": [
    {
     "data": {
      "text/plain": [
       "<Response [400]>"
      ]
     },
     "execution_count": 2,
     "metadata": {},
     "output_type": "execute_result"
    }
   ],
   "source": [
    "response_failed = requests.get(\"http://api.open-notify.org/iss\")\n",
    "\n",
    "response_failed"
   ]
  },
  {
   "cell_type": "markdown",
   "metadata": {},
   "source": [
    "We used the get methods to put in a GET request. There are four different types of requests: \n",
    "\n",
    "![Request types](requests.png)\n",
    "[Source](https://en.wikipedia.org/wiki/Representational_state_transfer)"
   ]
  },
  {
   "cell_type": "markdown",
   "metadata": {
    "collapsed": true
   },
   "source": [
    "Let's look at the payload of our previous, successful response:"
   ]
  },
  {
   "cell_type": "code",
   "execution_count": 3,
   "metadata": {},
   "outputs": [
    {
     "data": {
      "text/plain": [
       "b'{\"timestamp\": 1614709629, \"message\": \"success\", \"iss_position\": {\"longitude\": \"101.8463\", \"latitude\": \"32.5211\"}}'"
      ]
     },
     "execution_count": 3,
     "metadata": {},
     "output_type": "execute_result"
    }
   ],
   "source": [
    "response.content"
   ]
  },
  {
   "cell_type": "markdown",
   "metadata": {},
   "source": [
    "We can already see that this is JSON (though it is stored a `bytes` object), but we can check formally:"
   ]
  },
  {
   "cell_type": "code",
   "execution_count": 4,
   "metadata": {},
   "outputs": [
    {
     "data": {
      "text/plain": [
       "'application/json'"
      ]
     },
     "execution_count": 4,
     "metadata": {},
     "output_type": "execute_result"
    }
   ],
   "source": [
    "response.headers['content-type']"
   ]
  },
  {
   "cell_type": "markdown",
   "metadata": {},
   "source": [
    "We can decode this byte object, then the JSON will be readable. "
   ]
  },
  {
   "cell_type": "code",
   "execution_count": 5,
   "metadata": {},
   "outputs": [
    {
     "name": "stdout",
     "output_type": "stream",
     "text": [
      "{\"timestamp\": 1614709629, \"message\": \"success\", \"iss_position\": {\"longitude\": \"101.8463\", \"latitude\": \"32.5211\"}}\n"
     ]
    }
   ],
   "source": [
    "response_j = response.content.decode(\"utf-8\")\n",
    "print(response_j)"
   ]
  },
  {
   "cell_type": "markdown",
   "metadata": {},
   "source": [
    "Let's take a look at the JSON with nice formatting here:\n",
    "\n",
    "```JSON\n",
    "{\n",
    "  \"timestamp\": 1475240215,\n",
    "  \"message\": \"success\", \n",
    "  \"iss_position\": {\n",
    "    \"latitude\": -30.005751854107206, \n",
    "    \"longitude\": -104.20085371352678\n",
    "  } \n",
    "}\n",
    "```\n",
    "\n",
    "This looks a lot like a dictionary (or objects, for that matter)! We have key-value pairs. \n",
    "\n",
    "We can use the [json library](https://docs.python.org/3/library/json.html) to convert JSON into objects:"
   ]
  },
  {
   "cell_type": "code",
   "execution_count": 6,
   "metadata": {},
   "outputs": [
    {
     "name": "stdout",
     "output_type": "stream",
     "text": [
      "<class 'dict'>\n",
      "{'timestamp': 1614709629, 'message': 'success', 'iss_position': {'longitude': '101.8463', 'latitude': '32.5211'}}\n"
     ]
    },
    {
     "data": {
      "text/plain": [
       "{'longitude': '101.8463', 'latitude': '32.5211'}"
      ]
     },
     "execution_count": 6,
     "metadata": {},
     "output_type": "execute_result"
    }
   ],
   "source": [
    "import json\n",
    "response_d = json.loads(response_j)\n",
    "print(type(response_d))\n",
    "print(response_d)\n",
    "response_d[\"iss_position\"]"
   ]
  },
  {
   "cell_type": "markdown",
   "metadata": {},
   "source": [
    "Or, not surprisingly, pandas can also load a json object:"
   ]
  },
  {
   "cell_type": "code",
   "execution_count": 7,
   "metadata": {},
   "outputs": [
    {
     "data": {
      "text/html": [
       "<div>\n",
       "<style scoped>\n",
       "    .dataframe tbody tr th:only-of-type {\n",
       "        vertical-align: middle;\n",
       "    }\n",
       "\n",
       "    .dataframe tbody tr th {\n",
       "        vertical-align: top;\n",
       "    }\n",
       "\n",
       "    .dataframe thead th {\n",
       "        text-align: right;\n",
       "    }\n",
       "</style>\n",
       "<table border=\"1\" class=\"dataframe\">\n",
       "  <thead>\n",
       "    <tr style=\"text-align: right;\">\n",
       "      <th></th>\n",
       "      <th>timestamp</th>\n",
       "      <th>message</th>\n",
       "      <th>iss_position</th>\n",
       "    </tr>\n",
       "  </thead>\n",
       "  <tbody>\n",
       "    <tr>\n",
       "      <th>latitude</th>\n",
       "      <td>2021-03-02 18:27:09</td>\n",
       "      <td>success</td>\n",
       "      <td>32.5211</td>\n",
       "    </tr>\n",
       "    <tr>\n",
       "      <th>longitude</th>\n",
       "      <td>2021-03-02 18:27:09</td>\n",
       "      <td>success</td>\n",
       "      <td>101.8463</td>\n",
       "    </tr>\n",
       "  </tbody>\n",
       "</table>\n",
       "</div>"
      ],
      "text/plain": [
       "                    timestamp  message  iss_position\n",
       "latitude  2021-03-02 18:27:09  success       32.5211\n",
       "longitude 2021-03-02 18:27:09  success      101.8463"
      ]
     },
     "execution_count": 7,
     "metadata": {},
     "output_type": "execute_result"
    }
   ],
   "source": [
    "import pandas as pd \n",
    "\n",
    "df = pd.read_json(response_j)\n",
    "df"
   ]
  },
  {
   "cell_type": "markdown",
   "metadata": {},
   "source": [
    "This isn't quite what we want - we probably want one row per timestamp and longitude and latitude as columns:"
   ]
  },
  {
   "cell_type": "code",
   "execution_count": 8,
   "metadata": {},
   "outputs": [
    {
     "data": {
      "text/plain": [
       "{'latitude': '32.5211', 'longitude': '101.8463', 'timestamp': 1614709629}"
      ]
     },
     "execution_count": 8,
     "metadata": {},
     "output_type": "execute_result"
    }
   ],
   "source": [
    "def flatten(response_d):\n",
    "    response_flat = {}\n",
    "    response_flat[\"latitude\"] = response_d[\"iss_position\"][\"latitude\"]\n",
    "    response_flat[\"longitude\"] = response_d[\"iss_position\"][\"longitude\"]\n",
    "    response_flat[\"timestamp\"] = response_d[\"timestamp\"]\n",
    "    return response_flat\n",
    "flatten(response_d)"
   ]
  },
  {
   "cell_type": "markdown",
   "metadata": {},
   "source": [
    "That looks better. Let's get a couple of positions of the ISS over time and save it as an array:"
   ]
  },
  {
   "cell_type": "code",
   "execution_count": 9,
   "metadata": {},
   "outputs": [
    {
     "name": "stdout",
     "output_type": "stream",
     "text": [
      "{'latitude': '32.5649', 'longitude': '101.8987', 'timestamp': 1614709630}\n",
      "{'latitude': '32.6964', 'longitude': '102.0563', 'timestamp': 1614709633}\n",
      "{'latitude': '32.8276', 'longitude': '102.2143', 'timestamp': 1614709636}\n",
      "{'latitude': '32.9586', 'longitude': '102.3728', 'timestamp': 1614709639}\n",
      "{'latitude': '33.1111', 'longitude': '102.5584', 'timestamp': 1614709643}\n",
      "{'latitude': '33.2415', 'longitude': '102.7181', 'timestamp': 1614709646}\n",
      "{'latitude': '33.3717', 'longitude': '102.8782', 'timestamp': 1614709649}\n",
      "{'latitude': '33.5017', 'longitude': '103.0389', 'timestamp': 1614709652}\n",
      "{'latitude': '33.6315', 'longitude': '103.2001', 'timestamp': 1614709655}\n",
      "{'latitude': '33.7610', 'longitude': '103.3618', 'timestamp': 1614709658}\n"
     ]
    },
    {
     "data": {
      "text/plain": [
       "10"
      ]
     },
     "execution_count": 9,
     "metadata": {},
     "output_type": "execute_result"
    }
   ],
   "source": [
    "import time\n",
    "\n",
    "def pull_position():\n",
    "    \"\"\"Retreives the position of the ISS and returns it as a flat dictionary\"\"\"\n",
    "    response = requests.get(\"http://api.open-notify.org/iss-now.json\")\n",
    "    response_j = response.content.decode(\"utf-8\")\n",
    "    response_d = json.loads(response_j)\n",
    "    flat_response = flatten(response_d)\n",
    "    return flat_response    \n",
    "\n",
    "iss_position = []\n",
    "    \n",
    "# calls pull_position 10 times with 3 seconds break\n",
    "for i in range(10):\n",
    "    flat_response = pull_position()\n",
    "    iss_position.append(flat_response)\n",
    "    print(flat_response)\n",
    "    time.sleep(3)\n",
    "    \n",
    "len(iss_position)"
   ]
  },
  {
   "cell_type": "markdown",
   "metadata": {},
   "source": [
    "Now we can convert this into a nice dataframe:"
   ]
  },
  {
   "cell_type": "code",
   "execution_count": 10,
   "metadata": {},
   "outputs": [
    {
     "data": {
      "text/html": [
       "<div>\n",
       "<style scoped>\n",
       "    .dataframe tbody tr th:only-of-type {\n",
       "        vertical-align: middle;\n",
       "    }\n",
       "\n",
       "    .dataframe tbody tr th {\n",
       "        vertical-align: top;\n",
       "    }\n",
       "\n",
       "    .dataframe thead th {\n",
       "        text-align: right;\n",
       "    }\n",
       "</style>\n",
       "<table border=\"1\" class=\"dataframe\">\n",
       "  <thead>\n",
       "    <tr style=\"text-align: right;\">\n",
       "      <th></th>\n",
       "      <th>latitude</th>\n",
       "      <th>longitude</th>\n",
       "      <th>timestamp</th>\n",
       "    </tr>\n",
       "    <tr>\n",
       "      <th>timestamp</th>\n",
       "      <th></th>\n",
       "      <th></th>\n",
       "      <th></th>\n",
       "    </tr>\n",
       "  </thead>\n",
       "  <tbody>\n",
       "    <tr>\n",
       "      <th>2021-03-02 18:27:10</th>\n",
       "      <td>32.5649</td>\n",
       "      <td>101.8987</td>\n",
       "      <td>2021-03-02 18:27:10</td>\n",
       "    </tr>\n",
       "    <tr>\n",
       "      <th>2021-03-02 18:27:13</th>\n",
       "      <td>32.6964</td>\n",
       "      <td>102.0563</td>\n",
       "      <td>2021-03-02 18:27:13</td>\n",
       "    </tr>\n",
       "    <tr>\n",
       "      <th>2021-03-02 18:27:16</th>\n",
       "      <td>32.8276</td>\n",
       "      <td>102.2143</td>\n",
       "      <td>2021-03-02 18:27:16</td>\n",
       "    </tr>\n",
       "    <tr>\n",
       "      <th>2021-03-02 18:27:19</th>\n",
       "      <td>32.9586</td>\n",
       "      <td>102.3728</td>\n",
       "      <td>2021-03-02 18:27:19</td>\n",
       "    </tr>\n",
       "    <tr>\n",
       "      <th>2021-03-02 18:27:23</th>\n",
       "      <td>33.1111</td>\n",
       "      <td>102.5584</td>\n",
       "      <td>2021-03-02 18:27:23</td>\n",
       "    </tr>\n",
       "    <tr>\n",
       "      <th>2021-03-02 18:27:26</th>\n",
       "      <td>33.2415</td>\n",
       "      <td>102.7181</td>\n",
       "      <td>2021-03-02 18:27:26</td>\n",
       "    </tr>\n",
       "    <tr>\n",
       "      <th>2021-03-02 18:27:29</th>\n",
       "      <td>33.3717</td>\n",
       "      <td>102.8782</td>\n",
       "      <td>2021-03-02 18:27:29</td>\n",
       "    </tr>\n",
       "    <tr>\n",
       "      <th>2021-03-02 18:27:32</th>\n",
       "      <td>33.5017</td>\n",
       "      <td>103.0389</td>\n",
       "      <td>2021-03-02 18:27:32</td>\n",
       "    </tr>\n",
       "    <tr>\n",
       "      <th>2021-03-02 18:27:35</th>\n",
       "      <td>33.6315</td>\n",
       "      <td>103.2001</td>\n",
       "      <td>2021-03-02 18:27:35</td>\n",
       "    </tr>\n",
       "    <tr>\n",
       "      <th>2021-03-02 18:27:38</th>\n",
       "      <td>33.7610</td>\n",
       "      <td>103.3618</td>\n",
       "      <td>2021-03-02 18:27:38</td>\n",
       "    </tr>\n",
       "  </tbody>\n",
       "</table>\n",
       "</div>"
      ],
      "text/plain": [
       "                     latitude  longitude           timestamp\n",
       "timestamp                                                   \n",
       "2021-03-02 18:27:10   32.5649   101.8987 2021-03-02 18:27:10\n",
       "2021-03-02 18:27:13   32.6964   102.0563 2021-03-02 18:27:13\n",
       "2021-03-02 18:27:16   32.8276   102.2143 2021-03-02 18:27:16\n",
       "2021-03-02 18:27:19   32.9586   102.3728 2021-03-02 18:27:19\n",
       "2021-03-02 18:27:23   33.1111   102.5584 2021-03-02 18:27:23\n",
       "2021-03-02 18:27:26   33.2415   102.7181 2021-03-02 18:27:26\n",
       "2021-03-02 18:27:29   33.3717   102.8782 2021-03-02 18:27:29\n",
       "2021-03-02 18:27:32   33.5017   103.0389 2021-03-02 18:27:32\n",
       "2021-03-02 18:27:35   33.6315   103.2001 2021-03-02 18:27:35\n",
       "2021-03-02 18:27:38   33.7610   103.3618 2021-03-02 18:27:38"
      ]
     },
     "execution_count": 10,
     "metadata": {},
     "output_type": "execute_result"
    }
   ],
   "source": [
    "iss_position_df = pd.DataFrame(iss_position)\n",
    "iss_position_df['timestamp']  = pd.to_datetime(iss_position_df['timestamp'], unit=\"s\")\n",
    "\n",
    "iss_position_df = iss_position_df.set_index(pd.DatetimeIndex(iss_position_df['timestamp']))\n",
    "iss_position_df[\"latitude\"] = iss_position_df[\"latitude\"].map(float)\n",
    "iss_position_df[\"longitude\"] = iss_position_df[\"longitude\"].map(float)\n",
    "iss_position_df"
   ]
  },
  {
   "cell_type": "markdown",
   "metadata": {},
   "source": [
    "Let's see how the ISS moves"
   ]
  },
  {
   "cell_type": "code",
   "execution_count": 11,
   "metadata": {},
   "outputs": [
    {
     "data": {
      "text/plain": [
       "<AxesSubplot:xlabel='latitude', ylabel='longitude'>"
      ]
     },
     "execution_count": 11,
     "metadata": {},
     "output_type": "execute_result"
    },
    {
     "data": {
      "image/png": "[encoded data removed]",
      "text/plain": [
       "<Figure size 432x288 with 1 Axes>"
      ]
     },
     "metadata": {},
     "output_type": "display_data"
    }
   ],
   "source": [
    "import matplotlib.pyplot as plt\n",
    "# This next line tells jupyter to render the images inline\n",
    "%matplotlib inline\n",
    "plt.style.use('ggplot')\n",
    "iss_position_df.plot(kind=\"scatter\", x=\"latitude\", y=\"longitude\")"
   ]
  },
  {
   "cell_type": "markdown",
   "metadata": {},
   "source": [
    "### Querying with Parameters\n",
    "\n",
    "Requests can be parametrized. You can search for tweets of a specific user, for example, or [retrieve the time the ISS is over SLC](http://open-notify.org/Open-Notify-API/ISS-Pass-Times/)!\n",
    "\n",
    "The way to query with a get request for the ISS is this:\n",
    "\n",
    "`http://api.open-notify.org/iss-pass.json?lat=40.758701&lon=-111.876183`\n",
    "\n",
    "We, of course, could generate that URL ourselves, but the requests library is helpful here. Since JSON is similar to dictionaries, the requests library takes dictionaries for parameters."
   ]
  },
  {
   "cell_type": "code",
   "execution_count": 12,
   "metadata": {},
   "outputs": [
    {
     "data": {
      "text/plain": [
       "{'message': 'success',\n",
       " 'request': {'altitude': 100,\n",
       "  'datetime': 1614709232,\n",
       "  'latitude': 40.758701,\n",
       "  'longitude': -111.876183,\n",
       "  'passes': 5},\n",
       " 'response': [{'duration': 617, 'risetime': 1614759566},\n",
       "  {'duration': 641, 'risetime': 1614765357},\n",
       "  {'duration': 572, 'risetime': 1614771243},\n",
       "  {'duration': 578, 'risetime': 1614777112},\n",
       "  {'duration': 646, 'risetime': 1614782925}]}"
      ]
     },
     "execution_count": 12,
     "metadata": {},
     "output_type": "execute_result"
    }
   ],
   "source": [
    "url = \"http://api.open-notify.org/iss-pass.json\"\n",
    "coordinates = {\"lat\": 40.758701, \"lon\": -111.876183, \"n\":5}\n",
    "\n",
    "r = requests.get(url, params=coordinates)\n",
    "data = r.json()\n",
    "data"
   ]
  },
  {
   "cell_type": "code",
   "execution_count": 13,
   "metadata": {},
   "outputs": [
    {
     "data": {
      "text/plain": [
       "Timestamp('2021-03-03 08:19:26')"
      ]
     },
     "execution_count": 13,
     "metadata": {},
     "output_type": "execute_result"
    }
   ],
   "source": [
    "timestamp = data[\"response\"][0][\"risetime\"]\n",
    "pd.to_datetime(timestamp,  unit=\"s\")"
   ]
  },
  {
   "cell_type": "markdown",
   "metadata": {},
   "source": [
    "So, the ISS will be above SLC tomorrow morning!"
   ]
  }
 ],
 "metadata": {
  "anaconda-cloud": {},
  "kernelspec": {
   "display_name": "Python 3 (ipykernel)",
   "language": "python",
   "name": "python3"
  },
  "language_info": {
   "codemirror_mode": {
    "name": "ipython",
    "version": 3
   },
   "file_extension": ".py",
   "mimetype": "text/x-python",
   "name": "python",
   "nbconvert_exporter": "python",
   "pygments_lexer": "ipython3",
   "version": "3.9.7"
  }
 },
 "nbformat": 4,
 "nbformat_minor": 1
}
