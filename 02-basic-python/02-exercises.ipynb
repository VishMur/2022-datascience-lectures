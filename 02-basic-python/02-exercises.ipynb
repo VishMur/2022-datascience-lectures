{
 "cells": [
  {
   "cell_type": "markdown",
   "metadata": {},
   "source": [
    "# Excercises for Lecture 2\n",
    "\n",
    "Your Name: Vishwa Murugappan \n",
    "Your UID: u1089366  \n",
    "Your E-Mail: u1089366@umail.utah.edu"
   ]
  },
  {
   "cell_type": "markdown",
   "metadata": {},
   "source": [
    "## Exercise 1: Data types and operations\n",
    "Play around with data types and operations. Try the following things:\n",
    "\n",
    "1. Define two variables and assign an integer to the first and a float to the second. Define a new variable and assign the sum of the previous two variables. What's the data type of the third variable?\n",
    "2. Reassign a variable with a different data type, e.g., take one of your numerical variables and assign a string to it. What's the new data type?\n",
    "3. See what happens if you try to add a string to a string.\n",
    "4. See what happens if you add a string to a float or an integer."
   ]
  },
  {
   "cell_type": "code",
   "execution_count": 7,
   "metadata": {},
   "outputs": [
    {
     "name": "stdout",
     "output_type": "stream",
     "text": [
      "The third variable's type is: <class 'float'>\n",
      "The reassigned variable's type is: <class 'str'>\n",
      "Hello\n"
     ]
    },
    {
     "ename": "TypeError",
     "evalue": "can only concatenate str (not \"float\") to str",
     "output_type": "error",
     "traceback": [
      "\u001b[0;31m---------------------------------------------------------------------------\u001b[0m",
      "\u001b[0;31mTypeError\u001b[0m                                 Traceback (most recent call last)",
      "Input \u001b[0;32mIn [7]\u001b[0m, in \u001b[0;36m<cell line: 16>\u001b[0;34m()\u001b[0m\n\u001b[1;32m     13\u001b[0m \u001b[38;5;28mprint\u001b[39m(new_str)\n\u001b[1;32m     15\u001b[0m \u001b[38;5;66;03m# This is an eror\u001b[39;00m\n\u001b[0;32m---> 16\u001b[0m error_combination\u001b[38;5;241m=\u001b[39m \u001b[43mnew_str\u001b[49m\u001b[43m \u001b[49m\u001b[38;5;241;43m+\u001b[39;49m\u001b[43m \u001b[49m\u001b[43mfloat_var\u001b[49m\n\u001b[1;32m     17\u001b[0m \u001b[38;5;28mprint\u001b[39m(error_combination)\n",
      "\u001b[0;31mTypeError\u001b[0m: can only concatenate str (not \"float\") to str"
     ]
    }
   ],
   "source": [
    "# it turns into a float\n",
    "int_var= 5\n",
    "float_var= 4.5\n",
    "z= int_var + float_var\n",
    "print(\"The third variable's type is:\", str(type(z)))\n",
    "\n",
    "# It turns into a string\n",
    "int_var= \"5\"\n",
    "print(\"The reassigned variable's type is:\", str(type(int_var)))\n",
    "\n",
    "# This prints properly\n",
    "new_str= 'He' + 'llo'\n",
    "print(new_str)\n",
    "\n",
    "# This is an eror\n",
    "error_combination= new_str + float_var\n",
    "print(error_combination)"
   ]
  },
  {
   "cell_type": "markdown",
   "metadata": {},
   "source": [
    "## Exercise 2: Running Programs\n",
    "\n",
    " * Create a new file python file and use the simple function as a template. Modify the code to add two numbers instead of doubling a single number.\n",
    " * Can you guess what would happen if you change the indentation? Try it out.\n",
    " * Try what happens if you print `a` at the very end of the program. Can you explain what's going on?\n",
    " \n",
    "If you want to submit this activity, paste the content of your python file here:  "
   ]
  },
  {
   "cell_type": "code",
   "execution_count": 30,
   "metadata": {},
   "outputs": [
    {
     "name": "stdout",
     "output_type": "stream",
     "text": [
      "The result of adding 5 and 4 is: None\n"
     ]
    },
    {
     "ename": "NameError",
     "evalue": "name 'a' is not defined",
     "output_type": "error",
     "traceback": [
      "\u001b[0;31m---------------------------------------------------------------------------\u001b[0m",
      "\u001b[0;31mNameError\u001b[0m                                 Traceback (most recent call last)",
      "Input \u001b[0;32mIn [30]\u001b[0m, in \u001b[0;36m<cell line: 12>\u001b[0;34m()\u001b[0m\n\u001b[1;32m      9\u001b[0m \u001b[38;5;28mprint\u001b[39m(\u001b[38;5;124m\"\u001b[39m\u001b[38;5;124mThe result of adding 5 and 4 is:\u001b[39m\u001b[38;5;124m\"\u001b[39m, new_func(\u001b[38;5;241m4\u001b[39m,\u001b[38;5;241m5\u001b[39m))\n\u001b[1;32m     11\u001b[0m \u001b[38;5;66;03m# This will give an error as a is only within the scope of the function\u001b[39;00m\n\u001b[0;32m---> 12\u001b[0m \u001b[43ma\u001b[49m\n",
      "\u001b[0;31mNameError\u001b[0m: name 'a' is not defined"
     ]
    }
   ],
   "source": [
    "# This is the function\n",
    "def new_func(a,b):\n",
    "    return a + b\n",
    "\n",
    "# Changing the indentation is fine as long as you are consistent with it\n",
    "def new_func(n1,n2):\n",
    "            x=  n1 + n2\n",
    "\n",
    "print(\"The result of adding 5 and 4 is:\", new_func(4,5))\n",
    "\n",
    "# This will give an error as a is only within the scope of the function\n",
    "a"
   ]
  },
  {
   "cell_type": "markdown",
   "metadata": {},
   "source": [
    "## Exercise 3: Creating Cells, Executing Code\n",
    "\n",
    "1. Create a new code cell below where you define variables containing your name, your age in years, and your major.\n",
    "2. Create another cell that uses these variables and prints a concatenated string stating your name, major, and your age in years, months, and days (assuming today is your birthday). The output should look like that:\n",
    "\n",
    "```\n",
    "Name: Science Cat, Major: Computer Science, Age: 94 years, or 1128 months, or 34310 days. \n",
    "```"
   ]
  },
  {
   "cell_type": "code",
   "execution_count": 17,
   "metadata": {},
   "outputs": [],
   "source": [
    "name= 'Vishwa'\n",
    "age_yr= 16\n",
    "age_mnth= 16 *12\n",
    "age_day= 16 * 12 * 365\n",
    "major= 'Undecided'"
   ]
  },
  {
   "cell_type": "code",
   "execution_count": 20,
   "metadata": {},
   "outputs": [
    {
     "name": "stdout",
     "output_type": "stream",
     "text": [
      "Name: Vishwa, Major: Undecided, Age: 16 years, or 192 months, or 70080 days.\n"
     ]
    }
   ],
   "source": [
    "print(\"Name: \" + name + \", Major: \" + major + \", Age: \" + str(age) + \" years, or\", str(age_mnth) + \" months, or \" + str(age_day) + \" days.\")"
   ]
  },
  {
   "cell_type": "markdown",
   "metadata": {},
   "source": [
    "## Exercise 4: Functions\n",
    "Write a function that \n",
    " * takes two numerical variables\n",
    " * multiplies them with each other\n",
    " * divides them by a numerical variable defined in the scope outside the function\n",
    " * and returns the result. \n",
    " \n",
    "Print the result of the function for three different sets of input variables. "
   ]
  },
  {
   "cell_type": "code",
   "execution_count": 10,
   "metadata": {},
   "outputs": [
    {
     "name": "stdout",
     "output_type": "stream",
     "text": [
      "Result 1: 5.0\n",
      "Result 2: 2.4\n",
      "Result 3: 22.0\n"
     ]
    }
   ],
   "source": [
    "n = 5\n",
    "def operations(x,y):\n",
    "    multiply= x * y\n",
    "    divide= multiply / n\n",
    "    return divide\n",
    "\n",
    "print(\"Result 1:\",operations(5,5))\n",
    "print(\"Result 2:\",operations(4,3))\n",
    "print(\"Result 3:\",operations(22,5))"
   ]
  }
 ],
 "metadata": {
  "kernelspec": {
   "display_name": "Python 3 (ipykernel)",
   "language": "python",
   "name": "python3"
  },
  "language_info": {
   "codemirror_mode": {
    "name": "ipython",
    "version": 3
   },
   "file_extension": ".py",
   "mimetype": "text/x-python",
   "name": "python",
   "nbconvert_exporter": "python",
   "pygments_lexer": "ipython3",
   "version": "3.8.8"
  }
 },
 "nbformat": 4,
 "nbformat_minor": 4
}
