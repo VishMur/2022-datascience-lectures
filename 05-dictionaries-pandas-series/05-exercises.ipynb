{
 "cells": [
  {
   "cell_type": "markdown",
   "metadata": {},
   "source": [
    "# Lecture 5: Exercise Solutions"
   ]
  },
  {
   "cell_type": "markdown",
   "metadata": {},
   "source": [
    "## Exercise 2: Sets\n",
    "\n",
    "Write a function that finds the overlap of two sets and prints them.\n",
    "Initialize two sets, e.g., with values {13, 25, 37, 45, 13} and {14, 25, 38, 8, 45} and call this function with them."
   ]
  },
  {
   "cell_type": "code",
   "execution_count": 1,
   "metadata": {},
   "outputs": [
    {
     "data": {
      "text/plain": [
       "[45, 25]"
      ]
     },
     "execution_count": 1,
     "metadata": {},
     "output_type": "execute_result"
    }
   ],
   "source": [
    "set1= {13, 25, 37, 45, 13}\n",
    "set2= {14, 25, 38, 8, 45}\n",
    "\n",
    "def intersection(set1, set2):\n",
    "    list1 = []\n",
    "    list2 = []\n",
    "    return_list = []\n",
    "    \n",
    "    for value1 in set1:\n",
    "        list1.append(value1)\n",
    "    for value2 in set2:\n",
    "        list2.append(value2)\n",
    "    \n",
    "    for value1 in list1:\n",
    "        for value2 in list2:\n",
    "            if value1 == value2:\n",
    "                return_list.append(value1)\n",
    "    return return_list\n",
    "\n",
    "\n",
    "intersection(set1,set2)"
   ]
  },
  {
   "cell_type": "markdown",
   "metadata": {},
   "source": [
    "## Exercise 3: Dictionaries\n",
    "\n",
    " * Create a dictionary with two-letter codes of two US states and the full names, e.g., UT: Utah, NY: New York\n",
    " * After initially creating the dictionary, add two more states to the dictionary.\n",
    " * Create a second dictionary that maps the state codes to an array ofities in that state, e.g., UT: [Salt Lake City, Ogden, Provo, St.George]. \n",
    " * Write a function that takes a state code and prints the full name of the state and lists the cities in that state."
   ]
  },
  {
   "cell_type": "code",
   "execution_count": 2,
   "metadata": {},
   "outputs": [
    {
     "name": "stdout",
     "output_type": "stream",
     "text": [
      "The full name of the state that you want is: Virginia ; some cities this state has are in the following list:  ['Richmond', 'Williamsburg', 'Alexandria']\n"
     ]
    }
   ],
   "source": [
    "states = dict(UT = \"Utah\", NY = \"New York\")\n",
    "\n",
    "states['WY'] = \"Wyoming\"\n",
    "states['VA'] = \"Virginia\"\n",
    "\n",
    "states_cities = dict(UT = [\"SLC, Ogden. Provo, St. George\"], NY = [\"NYC\", \"Albany\", \"Buffalo\"], WY = [\"Cheyenne\", \"Cody\", \"Jackson\"], VA = [\"Richmond\", \"Williamsburg\", \"Alexandria\"])\n",
    "\n",
    "\n",
    "def state_info(abbreviation):\n",
    "    state_name= states[abbreviation]\n",
    "    state_cities= states_cities[abbreviation]\n",
    "    print(\"The full name of the state that you want is:\", state_name, \"; some cities this state has are in the following list: \", state_cities)\n",
    "\n",
    "# Example:\n",
    "state_info('VA')"
   ]
  },
  {
   "cell_type": "markdown",
   "metadata": {},
   "source": [
    "## Exercise 4: Objects\n",
    "\n",
    "Create a class `Pet` with members `name, pronoun, animal,` and `pet_response`. \n",
    "\n",
    "Add a method `pet()` which prints a response that is composed of the members, like that: \n",
    "\n",
    "`Layla is a cat. If you pet her, Layla purrs.`  \n",
    "`Scout is a dog. If you pet her, Scout wags her tail.`\n"
   ]
  },
  {
   "cell_type": "code",
   "execution_count": 3,
   "metadata": {},
   "outputs": [],
   "source": [
    "class Pet:\n",
    "    def __init__(self, name, pronoun, animal, pet_response):\n",
    "        self.name = name\n",
    "        self.pronoun = pronoun\n",
    "        self.animal = animal\n",
    "        self.pet_response = pet_response\n",
    "    def pet(self):\n",
    "        print(self.name + \" is a \" + self.animal + \". If you pet her, \" + self.name + \" \" + self.pet_response + \".\")"
   ]
  },
  {
   "cell_type": "markdown",
   "metadata": {},
   "source": [
    "Here are some example calls: "
   ]
  },
  {
   "cell_type": "code",
   "execution_count": 4,
   "metadata": {},
   "outputs": [
    {
     "name": "stdout",
     "output_type": "stream",
     "text": [
      "Layla is a cat. If you pet her, Layla purrs.\n",
      "Scout is a dog. If you pet her, Scout wags her tail.\n"
     ]
    }
   ],
   "source": [
    "layla = Pet(\"Layla\", \"her\", \"cat\", \"purrs\")\n",
    "scout = Pet(\"Scout\", \"her\", \"dog\", \"wags her tail\")\n",
    "\n",
    "layla.pet()\n",
    "scout.pet()"
   ]
  },
  {
   "cell_type": "markdown",
   "metadata": {
    "tags": []
   },
   "source": [
    "## Exercise 6: Pandas Series"
   ]
  },
  {
   "cell_type": "markdown",
   "metadata": {},
   "source": [
    "Create a new pandas series with the lists given below that contain NFL team names and the number of Super Bowl titles they won. Use the names as indices, the wins as the data.\n",
    "\n",
    " * Once the list is created, sort the series alphabetically by index. \n",
    " * Print an overview of the statistical properties of the series. What's the mean number of wins?\n",
    " * Filter out all teams that have won less than four Super Bowl titles\n",
    " * A football team has 45 players. Update the series so that instead of the number of titles, it reflects the number of Super Bowl rings given to the players. \n",
    " * Assume that each ring costs USD 31,000. Update the series so that it contains a string of the dollar amount including the \\$ sign. For the Steelers, for example, this would correspond to: \n",
    " ```\n",
    " Pittsburgh Steelers             $ 8100000\n",
    " ```\n",
    "\n"
   ]
  },
  {
   "cell_type": "markdown",
   "metadata": {},
   "source": [
    "### The instructions are wrong about the Steelers (for proof you can see that, if each ring is 31,000 and the Steelers final value is $8100000, the division of these numbers would result in a decimal number of rings given to Steelers players, which is wrong. The real value of all of the Steelers rings is $8370000, as shown in my code."
   ]
  },
  {
   "cell_type": "code",
   "execution_count": 5,
   "metadata": {},
   "outputs": [],
   "source": [
    "teams = [\"New England Patriots\",\n",
    "         \"Pittsburgh Steelers\",\n",
    "         \"Dallas Cowboys\",\n",
    "         \"San Francisco 49ers\",\n",
    "         \"Green Bay Packers\",\n",
    "         \"New York Giants\",\n",
    "         \"Denver Broncos\",\n",
    "         \"Oakland/Los Angeles Raiders\",\n",
    "         \"Washington Redskins\",\n",
    "         \"Miami Dolphins\",\n",
    "         \"Baltimore/Indianapolis Colts\",\n",
    "         \"Baltimore Ravens\"]\n",
    "wins = [6,6,5,5,4,4,3,3,3,2,2,2]"
   ]
  },
  {
   "cell_type": "code",
   "execution_count": 6,
   "metadata": {},
   "outputs": [],
   "source": [
    "import pandas as pd"
   ]
  },
  {
   "cell_type": "code",
   "execution_count": 7,
   "metadata": {},
   "outputs": [
    {
     "data": {
      "text/plain": [
       "'$ 15'"
      ]
     },
     "execution_count": 7,
     "metadata": {},
     "output_type": "execute_result"
    }
   ],
   "source": [
    "def toDollars(amount):\n",
    "    return \"$ \" + str(amount)\n",
    "\n",
    "toDollars(15)"
   ]
  },
  {
   "cell_type": "code",
   "execution_count": 8,
   "metadata": {},
   "outputs": [
    {
     "name": "stdout",
     "output_type": "stream",
     "text": [
      "Teams sorted alphabetically:\n",
      "Baltimore Ravens                2\n",
      "Baltimore/Indianapolis Colts    2\n",
      "Dallas Cowboys                  5\n",
      "Denver Broncos                  3\n",
      "Green Bay Packers               4\n",
      "Miami Dolphins                  2\n",
      "New England Patriots            6\n",
      "New York Giants                 4\n",
      "Oakland/Los Angeles Raiders     3\n",
      "Pittsburgh Steelers             6\n",
      "San Francisco 49ers             5\n",
      "Washington Redskins             3\n",
      "dtype: int64\n",
      "\n",
      "Statistical description:\n",
      "count    12.000000\n",
      "mean      3.750000\n",
      "std       1.484771\n",
      "min       2.000000\n",
      "25%       2.750000\n",
      "50%       3.500000\n",
      "75%       5.000000\n",
      "max       6.000000\n",
      "dtype: float64\n",
      "\n",
      "The mean number of wins is: 3.75\n"
     ]
    },
    {
     "data": {
      "text/plain": [
       "Dallas Cowboys          $ 6975000\n",
       "Green Bay Packers       $ 5580000\n",
       "New England Patriots    $ 8370000\n",
       "New York Giants         $ 5580000\n",
       "Pittsburgh Steelers     $ 8370000\n",
       "San Francisco 49ers     $ 6975000\n",
       "dtype: object"
      ]
     },
     "execution_count": 8,
     "metadata": {},
     "output_type": "execute_result"
    }
   ],
   "source": [
    "nfl= pd.Series(wins, index= teams)\n",
    "nfl= nfl.sort_index(ascending=True)\n",
    "print(\"Teams sorted alphabetically:\")\n",
    "print(nfl)\n",
    "\n",
    "print()\n",
    "print(\"Statistical description:\")\n",
    "print(nfl.describe())\n",
    "\n",
    "print()\n",
    "print(\"The mean number of wins is:\", nfl.describe()[1])\n",
    "\n",
    "nfl = nfl[nfl > 3]\n",
    "\n",
    "nfl = nfl * 45\n",
    "\n",
    "nfl = nfl * 31000\n",
    "\n",
    "nfl = nfl.apply(toDollars)\n",
    "nfl"
   ]
  }
 ],
 "metadata": {
  "anaconda-cloud": {},
  "kernelspec": {
   "display_name": "Python 3 (ipykernel)",
   "language": "python",
   "name": "python3"
  },
  "language_info": {
   "codemirror_mode": {
    "name": "ipython",
    "version": 3
   },
   "file_extension": ".py",
   "mimetype": "text/x-python",
   "name": "python",
   "nbconvert_exporter": "python",
   "pygments_lexer": "ipython3",
   "version": "3.8.8"
  }
 },
 "nbformat": 4,
 "nbformat_minor": 4
}
