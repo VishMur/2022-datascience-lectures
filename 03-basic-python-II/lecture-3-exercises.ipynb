{
 "cells": [
  {
   "cell_type": "markdown",
   "metadata": {},
   "source": [
    "# Lecture 3 Exercises"
   ]
  },
  {
   "cell_type": "markdown",
   "metadata": {},
   "source": [
    "## Exercise 1: Data Types and Operators"
   ]
  },
  {
   "cell_type": "markdown",
   "metadata": {},
   "source": [
    "**Task 1.1:** Try how capitalization affects string comparison, e.g., compare \"datascience\" to \"Datascience\"."
   ]
  },
  {
   "cell_type": "code",
   "execution_count": 47,
   "metadata": {},
   "outputs": [
    {
     "name": "stdout",
     "output_type": "stream",
     "text": [
      "False\n"
     ]
    }
   ],
   "source": [
    "print(str(\"datascience\" == \"Datascience\"))"
   ]
  },
  {
   "cell_type": "markdown",
   "metadata": {},
   "source": [
    "**Task 1.2:** Try to compare floats using the `==` operator defined as expressions of integers, e.g., whether 1/3 is equal to 2/6. Does that work?"
   ]
  },
  {
   "cell_type": "code",
   "execution_count": 48,
   "metadata": {},
   "outputs": [
    {
     "data": {
      "text/plain": [
       "True"
      ]
     },
     "execution_count": 48,
     "metadata": {},
     "output_type": "execute_result"
    }
   ],
   "source": [
    "# It works\n",
    "float(1/3) == float(2/6)"
   ]
  },
  {
   "cell_type": "markdown",
   "metadata": {},
   "source": [
    "**Task 1.3:** Write an expression that compares the \"floor\" value of a float to an integer, e.g., compare the floor of 1/3 to 0. There are two ways to calculate a floor value: using `int()` and using `math.floor()`. Are they equal? What is the data type of the returned values?"
   ]
  },
  {
   "cell_type": "code",
   "execution_count": 49,
   "metadata": {},
   "outputs": [
    {
     "data": {
      "text/plain": [
       "True"
      ]
     },
     "execution_count": 49,
     "metadata": {},
     "output_type": "execute_result"
    }
   ],
   "source": [
    "int(1/3) == 0"
   ]
  },
  {
   "cell_type": "code",
   "execution_count": 50,
   "metadata": {},
   "outputs": [
    {
     "name": "stdout",
     "output_type": "stream",
     "text": [
      "int version's type: <class 'int'>\n",
      "math package version's type: <class 'int'>\n",
      "Are the int and math.floor versions equal? True\n",
      "Data type for comparison between oneThirdInt and oneThirdFloor: <class 'bool'>\n"
     ]
    }
   ],
   "source": [
    "oneThirdInt= int(1/3)\n",
    "print(\"int version's type:\",type(oneThirdInt))\n",
    "import math\n",
    "oneThirdFloor= math.floor(1/3)\n",
    "print(\"math package version's type:\",type(oneThirdFloor))\n",
    "print(\"Are the int and math.floor versions equal?\",oneThirdInt == oneThirdFloor)\n",
    "print(\"Data type for comparison between oneThirdInt and oneThirdFloor:\", type(oneThirdInt == oneThirdFloor))"
   ]
  },
  {
   "cell_type": "markdown",
   "metadata": {},
   "source": [
    "## Exercise 3: Functions and If"
   ]
  },
  {
   "cell_type": "markdown",
   "metadata": {},
   "source": [
    "Write a function that takes two integers. If either of the numbers can be divided by the other without a remainder, print the result of the division. If none of the numbers can divide the other one, print an error message."
   ]
  },
  {
   "cell_type": "code",
   "execution_count": 51,
   "metadata": {},
   "outputs": [
    {
     "name": "stdout",
     "output_type": "stream",
     "text": [
      "Result when 6 is divided by 3 is: 2.0\n",
      "The function produces the same result regarless of the order the numbers are in: 2.0\n",
      "The function will return an error when neither number can be divided by the other without a remainder,\n",
      "      like in the case of 5 and 2: Error! There should not be a remainder when division is performed.\n"
     ]
    }
   ],
   "source": [
    "def func(a,b):\n",
    "    if a % b == 0:\n",
    "        return a / b\n",
    "    elif b % a == 0:\n",
    "        return b / a\n",
    "    else:\n",
    "        returnval= \"Error! There should not be a remainder when division is performed.\"\n",
    "        return returnval\n",
    "print(\"Result when 6 is divided by 3 is:\", func(3,6))\n",
    "print(\"The function produces the same result regarless of the order the numbers are in:\", func(6,3))\n",
    "print(\"\"\"The function will return an error when neither number can be divided by the other without a remainder,\n",
    "      like in the case of 5 and 2:\"\"\", func(5,2))"
   ]
  },
  {
   "cell_type": "markdown",
   "metadata": {},
   "source": [
    "## Exercise 4: Lists\n",
    "\n",
    " * Create a list for the Rolling Stones: Mick, Keith, Charlie, Ronnie.\n",
    " * Create a slice of that list that contains only members of the original lineup (Mick, Keith, Charlie).\n",
    " * Add the stones lists to the the bands list."
   ]
  },
  {
   "cell_type": "code",
   "execution_count": 53,
   "metadata": {},
   "outputs": [],
   "source": [
    "# intializations\n",
    "beatles = [\"Paul\", \"John\", \"George\", \"Ringo\"]\n",
    "zeppelin = [\"Jimmy\", \"Robert\", \"John\", \"John\"]\n",
    "bands = [beatles, zeppelin]"
   ]
  },
  {
   "cell_type": "code",
   "execution_count": 56,
   "metadata": {},
   "outputs": [
    {
     "data": {
      "text/plain": [
       "['Mick', 'Keith', 'Charlie', 'Ronnie']"
      ]
     },
     "execution_count": 56,
     "metadata": {},
     "output_type": "execute_result"
    }
   ],
   "source": [
    "rolling_stones= [\"Mick\", \"Keith\", \"Charlie\", \"Ronnie\"]\n",
    "rolling_stones"
   ]
  },
  {
   "cell_type": "code",
   "execution_count": 57,
   "metadata": {},
   "outputs": [
    {
     "data": {
      "text/plain": [
       "['Mick', 'Keith', 'Charlie']"
      ]
     },
     "execution_count": 57,
     "metadata": {},
     "output_type": "execute_result"
    }
   ],
   "source": [
    "rolling_stones_slice = rolling_stones[0:3]\n",
    "rolling_stones_slice"
   ]
  },
  {
   "cell_type": "code",
   "execution_count": 59,
   "metadata": {},
   "outputs": [
    {
     "data": {
      "text/plain": [
       "[['Paul', 'John', 'George', 'Ringo'],\n",
       " ['Jimmy', 'Robert', 'John', 'John'],\n",
       " ['Mick', 'Keith', 'Charlie', 'Ronnie']]"
      ]
     },
     "execution_count": 59,
     "metadata": {},
     "output_type": "execute_result"
    }
   ],
   "source": [
    "bands= [beatles, zeppelin, rolling_stones]\n",
    "bands"
   ]
  },
  {
   "cell_type": "markdown",
   "metadata": {},
   "source": [
    "## Exercise 5.1: While\n",
    "\n",
    "Write a while loop that computes the sum of the 100 first positive integers. I.e., calculate\n",
    "\n",
    "$1+2+3+4+5+...+100$ "
   ]
  },
  {
   "cell_type": "code",
   "execution_count": 60,
   "metadata": {},
   "outputs": [
    {
     "data": {
      "text/plain": [
       "5050"
      ]
     },
     "execution_count": 60,
     "metadata": {},
     "output_type": "execute_result"
    }
   ],
   "source": [
    "total = 0\n",
    "for number in range(1,101):\n",
    "    total = total + number\n",
    "total"
   ]
  },
  {
   "cell_type": "markdown",
   "metadata": {},
   "source": [
    "## Exercise 5.2: For\n",
    "\n",
    "Use a for loop to create an array that contains all even numbers in the range 0-50, i.e., an array: [2, 4, 6, ..., 48, 50]  "
   ]
  },
  {
   "cell_type": "code",
   "execution_count": 61,
   "metadata": {},
   "outputs": [
    {
     "data": {
      "text/plain": [
       "[0,\n",
       " 2,\n",
       " 4,\n",
       " 6,\n",
       " 8,\n",
       " 10,\n",
       " 12,\n",
       " 14,\n",
       " 16,\n",
       " 18,\n",
       " 20,\n",
       " 22,\n",
       " 24,\n",
       " 26,\n",
       " 28,\n",
       " 30,\n",
       " 32,\n",
       " 34,\n",
       " 36,\n",
       " 38,\n",
       " 40,\n",
       " 42,\n",
       " 44,\n",
       " 46,\n",
       " 48,\n",
       " 50]"
      ]
     },
     "execution_count": 61,
     "metadata": {},
     "output_type": "execute_result"
    }
   ],
   "source": [
    "evens= []\n",
    "for number in range(0,51):\n",
    "    if number % 2 == 0:\n",
    "        evens.append(number)\n",
    "evens"
   ]
  },
  {
   "cell_type": "markdown",
   "metadata": {},
   "source": [
    "Create a new array for the Beatles main instruments: Ringo played drums, George played lead guitar, John played rhythm guitar and Paul played bass. Assume that the array position associated the musician with his instrument. Use a for loop to print:\n",
    "\n",
    "```\n",
    "Paul: Bass\n",
    "John: Rythm Guitar\n",
    "George: Lead Guitar\n",
    "Ringo: Drums\n",
    "```"
   ]
  },
  {
   "cell_type": "code",
   "execution_count": 62,
   "metadata": {},
   "outputs": [
    {
     "name": "stdout",
     "output_type": "stream",
     "text": [
      "Paul: Bass\n",
      "John: Rythm Guitar\n",
      "George: Lead Guitar\n",
      "Ringo: Drums\n"
     ]
    }
   ],
   "source": [
    "instruments= [\"Bass\", \"Rythm Guitar\", \"Lead Guitar\", \"Drums\"]\n",
    "for number in range(0,4):\n",
    "    print(beatles[number] + \": \" + instruments[number])"
   ]
  },
  {
   "cell_type": "markdown",
   "metadata": {},
   "source": [
    "## Exercise 6: Recursion\n",
    "\n",
    "Write a recursive function that calculates the factorial of a number. "
   ]
  },
  {
   "cell_type": "code",
   "execution_count": 65,
   "metadata": {},
   "outputs": [],
   "source": [
    "def factorial(n):\n",
    "    if n == 1:\n",
    "        return n\n",
    "    else:\n",
    "        return n * factorial(n-1)"
   ]
  },
  {
   "cell_type": "code",
   "execution_count": 74,
   "metadata": {},
   "outputs": [
    {
     "data": {
      "text/plain": [
       "120"
      ]
     },
     "execution_count": 74,
     "metadata": {},
     "output_type": "execute_result"
    }
   ],
   "source": [
    "# Example\n",
    "factorial(5)"
   ]
  },
  {
   "cell_type": "markdown",
   "metadata": {},
   "source": [
    "## Exercise 7: List Comprehension"
   ]
  },
  {
   "cell_type": "markdown",
   "metadata": {},
   "source": [
    "Write a list comprehension function that creates an array with the length of each word in the following sentence:\n",
    "\n",
    "\"the quick brown fox jumps over the lazy dog\"\n",
    "\n",
    "The result should be a list: \n",
    "\n",
    "```python\n",
    "[3,5,...,3]\n",
    "```"
   ]
  },
  {
   "cell_type": "code",
   "execution_count": 70,
   "metadata": {},
   "outputs": [
    {
     "data": {
      "text/plain": [
       "['the', 'quick', 'brown', 'fox', 'jumps', 'over', 'the', 'lazy', 'dog']"
      ]
     },
     "execution_count": 70,
     "metadata": {},
     "output_type": "execute_result"
    }
   ],
   "source": [
    "# setting up the array\n",
    "sentence = \"the quick brown fox jumps over the lazy dog\"\n",
    "word_list = sentence.split()\n",
    "word_list"
   ]
  },
  {
   "cell_type": "code",
   "execution_count": 72,
   "metadata": {},
   "outputs": [
    {
     "data": {
      "text/plain": [
       "[3, 5, 5, 3, 5, 4, 3, 4, 3]"
      ]
     },
     "execution_count": 72,
     "metadata": {},
     "output_type": "execute_result"
    }
   ],
   "source": [
    "length_list = []\n",
    "for word in word_list:\n",
    "    length_list.append(len(word))\n",
    "length_list"
   ]
  }
 ],
 "metadata": {
  "anaconda-cloud": {},
  "kernelspec": {
   "display_name": "Python 3 (ipykernel)",
   "language": "python",
   "name": "python3"
  },
  "language_info": {
   "codemirror_mode": {
    "name": "ipython",
    "version": 3
   },
   "file_extension": ".py",
   "mimetype": "text/x-python",
   "name": "python",
   "nbconvert_exporter": "python",
   "pygments_lexer": "ipython3",
   "version": "3.8.8"
  }
 },
 "nbformat": 4,
 "nbformat_minor": 4
}
